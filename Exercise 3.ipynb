{
 "cells": [
  {
   "cell_type": "markdown",
   "metadata": {},
   "source": [
    "# Download ffmped static build\n",
    "Downloading a static build of FFmpeg to the Coursera server, unziping it, and adding the directory to the environment variable “PATH”."
   ]
  },
  {
   "cell_type": "code",
   "execution_count": 1,
   "metadata": {},
   "outputs": [
    {
     "name": "stdout",
     "output_type": "stream",
     "text": [
      "/usr/bin/ffmpeg\r\n"
     ]
    }
   ],
   "source": [
    "# code copied from coursera lab\n",
    "# Download latest FFmpeg static build and run ffmpeg locally\n",
    "exist = !which ffmpeg\n",
    "if not exist:\n",
    "  !curl https://johnvansickle.com/ffmpeg/releases/ffmpeg-release-amd64-static.tar.xz -o ffmpeg.tar.xz \\\n",
    "     && tar -xf ffmpeg.tar.xz && rm ffmpeg.tar.xz\n",
    "  ffmdir = !find . -iname ffmpeg-*-static\n",
    "  path = %env PATH\n",
    "  path = path + ':' + ffmdir[0]\n",
    "  %env PATH $path\n",
    "\n",
    "!which ffmpeg"
   ]
  },
  {
   "cell_type": "markdown",
   "metadata": {},
   "source": [
    "# Function for examining the format of the films "
   ]
  },
  {
   "cell_type": "code",
   "execution_count": 1,
   "metadata": {},
   "outputs": [],
   "source": [
    "#import libary\n",
    "import pathlib"
   ]
  },
  {
   "cell_type": "code",
   "execution_count": 2,
   "metadata": {},
   "outputs": [],
   "source": [
    "class FFprobe():\n",
    "    def __init__(self,filePath):\n",
    "        self.filepath = filePath\n",
    "        # set check variable to true until some specification isn't met\n",
    "        self.isOkFormat = True\n",
    "        # save video metadata in a list\n",
    "        self.video_info = !ffprobe -v error -select_streams v:0 -show_entries stream=codec_name,r_frame_rate,display_aspect_ratio,width,height,bit_rate -of default=noprint_wrappers=1:nokey=1 $self.filepath\n",
    "        # save audio metadata in a list\n",
    "        self.audio_info = !ffprobe -v 0 -select_streams a:0 -show_entries stream=codec_name,channels,bit_rate -of default=noprint_wrappers=1:nokey=1 $self.filepath\n",
    "    \n",
    "    # function to determine which aspects of the digital file format \n",
    "    # does not meet the required specifications and print to txt.file which fields are problematic\n",
    "    # and convert the incorrect formatted file to correct format automatically\n",
    "    def checkFile(self):\n",
    "        # heading for report include which file is being reported about\n",
    "        report = f'Report for file {self. filepath}\\n'\n",
    "        # store the errors field\n",
    "        error = \"\"\n",
    "        \n",
    "        # check if file format is correct\n",
    "        # get the extension of the path without the file name\n",
    "        file_extension = pathlib.Path(self. filepath).suffix\n",
    "        if file_extension != '.mp4':\n",
    "            self. isOkFormat = False\n",
    "            error += f'-- Wrong video container format. Expected mp4, found {file_extension} \\n'\n",
    "        \n",
    "        #check if the video codec is correct\n",
    "        video_codec = self.video_info[0]\n",
    "        if video_codec != 'h264':\n",
    "            self. isOkFormat = False\n",
    "            error += f'-- Wrong video codec. Expected h.264, found {video_codec}\\n'\n",
    "\n",
    "        #check if the frame rate is correct\n",
    "        frame_rate = self.video_info[4]\n",
    "        if frame_rate != \"25/1\":\n",
    "            self. isOkFormat = False\n",
    "            fps = frame_rate.split('/')\n",
    "            fps = float(fps[0])/float(fps[1])\n",
    "            error += f'-- Wrong frame rate. Expected 25 FPS, found {fps} FPS \\n'\n",
    "\n",
    "        #check if the aspect ratio is correct\n",
    "        aspect_ratio = self.video_info[3]\n",
    "        if aspect_ratio != '16:9':\n",
    "            self. isOkFormat = False\n",
    "            error += f'-- Wrong aspect ratio. Expected 16:9, found {aspect_ratio}\\n'\n",
    "\n",
    "        #check if the resolution is correct\n",
    "        resolution = str(self.video_info[1])+\"x\"+str(self.video_info[2])\n",
    "        if resolution != '640x360':\n",
    "            self. isOkFormat = False\n",
    "            error += f'-- Wrong resolution. Expected 640x360, found {resolution}\\n'\n",
    "\n",
    "        #check if the video bit rate is correct\n",
    "        #convert video bit rate to Mb\n",
    "        v_bit_rate = float(self.video_info[5])/1000000\n",
    "        if v_bit_rate <= 2 or v_bit_rate >= 5  :\n",
    "            self. isOkFormat = False\n",
    "            error += f'-- Wrong video bit rate. Expected 2 - 5 Mb/s, found {v_bit_rate} Mb/s\\n'\n",
    "        \n",
    "        #check if the audio bit rate is correct\n",
    "        # convert audio bit rate to kb\n",
    "        a_bit_rate = float(self.audio_info[2])/1000\n",
    "        if a_bit_rate > 256:\n",
    "            self. isOkFormat = False\n",
    "            error += f'-- Wrong audio bit rate. Expected up to 256 kb/s, found {a_bit_rate} kb/s\\n'\n",
    "\n",
    "        #check if the audio codec is correct\n",
    "        audio_codec = self.audio_info[0]\n",
    "        if audio_codec != 'aac':\n",
    "            self. isOkFormat = False\n",
    "            error += f'-- Wrong audio codec. Expected aac, found {audio_codec}\\n'\n",
    "\n",
    "        #check if audio channels is correct\n",
    "        channel_type =\"\"\n",
    "        # find the channel_type from the channels\n",
    "        if (int(self.audio_info[1]) == 2):\n",
    "            channel_type = 'stereo'\n",
    "        elif (int(self.audio_info[1]) == 1):\n",
    "            channel_type = 'mono'\n",
    "        if channel_type != 'stereo':\n",
    "            self. isOkFormat = False\n",
    "            error += f'-- Wrong audio channels. Expected stereo, found {channel_type}\\n'\n",
    "\n",
    "        # if the file format is incorrect, update to correct file specification\n",
    "        if self. isOkFormat == False:\n",
    "            # get the file name of the path without the extension\n",
    "            index = self.filepath.index('.')\n",
    "            file_name = self.filepath[:index]\n",
    "            # declare the output file name\n",
    "            outputFile = file_name+'_formatOk.mp4'\n",
    "            # covert the file format to correct specificaions\n",
    "            !ffmpeg -loglevel error -hide_banner -nostats -y -i $self.filepath -c:v h264 -vf scale=640:360,setdar=16/9,fps=25 -c:a aac -ac 2 -b:v 3.5M -b:a 256k $outputFile\n",
    "            # add the error fields text to the report\n",
    "            report += error\n",
    "            \n",
    "            #Put the error report into txt file\n",
    "            #open .txt file to write to\n",
    "            with open('report.txt','a') as f:\n",
    "                f.write(report)\n",
    "                f.write('='*90)\n",
    "                f.write('\\n')\n",
    "                f.close()  \n",
    "        # if the file format is correct, dont do anything\n",
    "        else:\n",
    "            report += f'-- All formatting are okay'\n",
    "        \n",
    "        # print the report as output of the function\n",
    "        return report\n",
    "\n"
   ]
  },
  {
   "cell_type": "markdown",
   "metadata": {},
   "source": [
    "## FFprobe\n",
    "ffprobe was used to gathers information from multimedia streams and put the information into the list. it can be used to check the format of the container used by a multimedia stream and the format and type of each media stream in it. \n",
    "\n",
    "To get the video metadata in a list, firstly \"-v error\" option is added to the 'ffprobe' command to reduce the information printed as an output where it  setting the log level to only display error messages. By mentioning \"-select_streams v:0\", we tell ffprobe to inspect the video stream with index=1. ffprobe has streams specifiers that allow the specific information to be extracted. Adding \"show entries\" option along with the key that we wish to extract to extract such as \"stream=codec_name,r_frame_rate..\", this tell ffprobe to only extract the key we specific in the stream. Adding \"-of default=noprint_wrappers=1:nokey=1\" to the command line, it set the output printing format where the wrapper and the key of each field will not be shown. The output of the ffprobe command line for the video metadata will be printed in the sequence of video codec,width,height,aspect ratio,frame rate and video bit rate.\n",
    "\n",
    "To get the audio metadata, similar command will be used but \"-v 0 -select_streams a:0\" will be added to the command line instead. \"-v 0\" will not print any informational message,warnings or erros while \"select_streams a:0\" will inspect the audio stream with index=1. The output of the ffprobe command line for the audio metadata will be printed in the sequence of audio codec name, channels and audio bit rate. \n",
    "\n",
    "## FFmpeg\n",
    "Ffmpeg is a fast video and audio converter that can grab from a live audio/video source.\n",
    "\n",
    "After the format checking with if conditions, if any of the file format was found incorrect it will used the ffmpeg command line to correct the file to the required format. The command line include all the format of films that the organization specific, and it will be applied to the incorrect formatted file. Firstly, to convert the file to MP4 will be specific the output as mp4 format by adding the filename and \"FormatOk\" along with the mp4 extension at the back. \"loglevel error -hide_banner -stats\" show only the warning and nothing else. To influence the quality of each stream, \"-c:v h264\" will convert video to h264 codec, \"-c:a aac\" convert audio to aac codec, \"-ac 2\" convert audio channel to 2 which is stereo channel type, \"-b:v\" convert the video rate to 3.5M and \"-b:a\" convert the audio bit rate to 256k. To convert the resolution,aspect ratio and fps of the video, we used the video filter with the filtergraph expression where \"-vf scale=640:360,setdar=16/9,fps=25\" is added to the command line.\n",
    "\n"
   ]
  },
  {
   "cell_type": "markdown",
   "metadata": {},
   "source": [
    "# Verify the application \n",
    "## Check the submitted file format"
   ]
  },
  {
   "cell_type": "code",
   "execution_count": 3,
   "metadata": {},
   "outputs": [],
   "source": [
    "flims_name = [\"Cosmos_War_of_the_Planets.mp4\",\"Last_man_on_earth_1964.mov\",\"The_Gun_and_the_Pulpit.avi\",\n",
    "    \"The_Hill_Gang_Rides_Again.mp4\",\"Voyage_to_the_Planet_of_Prehistoric_Women.mp4\"]"
   ]
  },
  {
   "cell_type": "code",
   "execution_count": 4,
   "metadata": {},
   "outputs": [
    {
     "name": "stdout",
     "output_type": "stream",
     "text": [
      "Report for file Ex3_Flims/Cosmos_War_of_the_Planets.mp4\n",
      "-- Wrong frame rate. Expected 25 FPS, found 29.97002997002997 FPS \n",
      "-- Wrong aspect ratio. Expected 16:9, found 314:177\n",
      "-- Wrong resolution. Expected 640x360, found 628x354\n",
      "-- Wrong audio bit rate. Expected up to 256 kb/s, found 317.103 kb/s\n",
      "\n",
      "======================================================================\n",
      "Report for file Ex3_Flims/Last_man_on_earth_1964.mov\n",
      "-- Wrong video container format. Expected mp4, found .mov \n",
      "-- Wrong video codec. Expected h.264, found prores\n",
      "-- Wrong frame rate. Expected 25 FPS, found 23.976023976023978 FPS \n",
      "-- Wrong video bit rate. Expected 2 - 5 Mb/s, found 9.285191 Mb/s\n",
      "-- Wrong audio bit rate. Expected up to 256 kb/s, found 1536.0 kb/s\n",
      "-- Wrong audio codec. Expected aac, found pcm_s16le\n",
      "\n",
      "======================================================================\n",
      "Report for file Ex3_Flims/The_Gun_and_the_Pulpit.avi\n",
      "-- Wrong video container format. Expected mp4, found .avi \n",
      "-- Wrong video codec. Expected h.264, found rawvideo\n",
      "-- Wrong aspect ratio. Expected 16:9, found 0:1\n",
      "-- Wrong resolution. Expected 640x360, found 720x404\n",
      "-- Wrong video bit rate. Expected 2 - 5 Mb/s, found 87.438878 Mb/s\n",
      "-- Wrong audio bit rate. Expected up to 256 kb/s, found 1536.0 kb/s\n",
      "-- Wrong audio codec. Expected aac, found pcm_s16le\n",
      "\n",
      "======================================================================\n",
      "Report for file Ex3_Flims/The_Hill_Gang_Rides_Again.mp4\n",
      "-- Wrong video bit rate. Expected 2 - 5 Mb/s, found 7.53773 Mb/s\n",
      "\n",
      "======================================================================\n",
      "Report for file Ex3_Flims/Voyage_to_the_Planet_of_Prehistoric_Women.mp4\n",
      "-- Wrong video codec. Expected h.264, found hevc\n",
      "-- Wrong frame rate. Expected 25 FPS, found 29.97002997002997 FPS \n",
      "-- Wrong video bit rate. Expected 2 - 5 Mb/s, found 8.038857 Mb/s\n",
      "-- Wrong audio bit rate. Expected up to 256 kb/s, found 320.0 kb/s\n",
      "-- Wrong audio codec. Expected aac, found mp3\n",
      "\n",
      "======================================================================\n"
     ]
    }
   ],
   "source": [
    "file_loc = 'Ex3_Flims/'\n",
    "for i in flims_name:\n",
    "    ffprobe = FFprobe(file_loc+i)\n",
    "    print(ffprobe. checkFile())\n",
    "    #print(ffprobe. convertFile())\n",
    "    print(\"=\"*70)"
   ]
  },
  {
   "cell_type": "markdown",
   "metadata": {},
   "source": [
    "## Check the converted file format"
   ]
  },
  {
   "cell_type": "code",
   "execution_count": 5,
   "metadata": {},
   "outputs": [
    {
     "name": "stdout",
     "output_type": "stream",
     "text": [
      "Report for file Ex3_Flims/Cosmos_War_of_the_Planets_formatOk.mp4\n",
      "-- All formatting are okay\n",
      "======================================================================\n",
      "Report for file Ex3_Flims/Last_man_on_earth_1964_formatOk.mp4\n",
      "-- All formatting are okay\n",
      "======================================================================\n",
      "Report for file Ex3_Flims/The_Gun_and_the_Pulpit_formatOk.mp4\n",
      "-- All formatting are okay\n",
      "======================================================================\n",
      "Report for file Ex3_Flims/The_Hill_Gang_Rides_Again_formatOk.mp4\n",
      "-- All formatting are okay\n",
      "======================================================================\n",
      "Report for file Ex3_Flims/Voyage_to_the_Planet_of_Prehistoric_Women_formatOk.mp4\n",
      "-- All formatting are okay\n",
      "======================================================================\n"
     ]
    }
   ],
   "source": [
    "flims_name_ok = [\"Cosmos_War_of_the_Planets_formatOk.mp4\",\"Last_man_on_earth_1964_formatOk.mp4\",\"The_Gun_and_the_Pulpit_formatOk.mp4\",\n",
    "    \"The_Hill_Gang_Rides_Again_formatOk.mp4\",\"Voyage_to_the_Planet_of_Prehistoric_Women_formatOk.mp4\"]\n",
    "file_loc = 'Ex3_Flims/'\n",
    "for i in flims_name_ok:\n",
    "    ffprobe = FFprobe(file_loc+i)\n",
    "    print(ffprobe. checkFile())\n",
    "    #print(ffprobe. convertFile())\n",
    "    print(\"=\"*70)"
   ]
  }
 ],
 "metadata": {
  "kernelspec": {
   "display_name": "Python 3",
   "language": "python",
   "name": "python3"
  },
  "language_info": {
   "codemirror_mode": {
    "name": "ipython",
    "version": 3
   },
   "file_extension": ".py",
   "mimetype": "text/x-python",
   "name": "python",
   "nbconvert_exporter": "python",
   "pygments_lexer": "ipython3",
   "version": "3.7.6"
  }
 },
 "nbformat": 4,
 "nbformat_minor": 4
}
